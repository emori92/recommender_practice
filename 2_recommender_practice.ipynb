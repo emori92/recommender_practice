{
 "cells": [
  {
   "cell_type": "markdown",
   "metadata": {},
   "source": [
    "# [データサイエンティスト養成読本](https://www.amazon.co.jp/%E3%83%87%E3%83%BC%E3%82%BF%E3%82%B5%E3%82%A4%E3%82%A8%E3%83%B3%E3%83%86%E3%82%A3%E3%82%B9%E3%83%88%E9%A4%8A%E6%88%90%E8%AA%AD%E6%9C%AC-%E6%A9%9F%E6%A2%B0%E5%AD%A6%E7%BF%92%E5%85%A5%E9%96%80%E7%B7%A8-Software-Design-plus/dp/4774176311/ref=pd_sbs_14_4/356-1722932-6741318?_encoding=UTF8&pd_rd_i=4774176311&pd_rd_r=88f1acad-987d-4e75-aee0-764497c87675&pd_rd_w=AKKLK&pd_rd_wg=lMdtz&pf_rd_p=74dba523-b490-4864-923d-51639f6a935f&pf_rd_r=0VFVA17V6K97Q8ZQPWYC&psc=1&refRID=0VFVA17V6K97Q8ZQPWYC)\n",
    "\n",
    "1. MLライブラリの復習\n",
    "2. ユーザベース協調フィルタリング\n",
    "3. Non-Negative Matrix Factorization(scikit-learn)\n",
    "4. Matrix Factorization(scratch)"
   ]
  },
  {
   "cell_type": "markdown",
   "metadata": {},
   "source": [
    "## 1. MLライブラリの復習"
   ]
  },
  {
   "cell_type": "code",
   "execution_count": 1,
   "metadata": {},
   "outputs": [],
   "source": [
    "import numpy as np\n",
    "import pandas as pd\n",
    "import matplotlib.pyplot as plt\n",
    "from sklearn import datasets as ds\n",
    "%matplotlib inline"
   ]
  },
  {
   "cell_type": "code",
   "execution_count": 2,
   "metadata": {},
   "outputs": [
    {
     "output_type": "execute_result",
     "data": {
      "text/plain": "array([[  0,   1,   2,   3,   4,   5,   6,   7,   8,   9],\n       [100, 101, 102, 103, 104, 105, 106, 107, 108, 109]])"
     },
     "metadata": {},
     "execution_count": 2
    }
   ],
   "source": [
    "x = list(range(10))\n",
    "y = list(range(100, 110))\n",
    "\n",
    "a = np.array([x, y])\n",
    "a"
   ]
  },
  {
   "cell_type": "code",
   "execution_count": 3,
   "metadata": {},
   "outputs": [],
   "source": [
    "d = ds.make_regression(100, 1, noise=20)"
   ]
  },
  {
   "cell_type": "code",
   "execution_count": 4,
   "metadata": {},
   "outputs": [
    {
     "output_type": "display_data",
     "data": {
      "text/plain": "<Figure size 432x288 with 1 Axes>",
      "image/svg+xml": "<?xml version=\"1.0\" encoding=\"utf-8\" standalone=\"no\"?>\n<!DOCTYPE svg PUBLIC \"-//W3C//DTD SVG 1.1//EN\"\n  \"http://www.w3.org/Graphics/SVG/1.1/DTD/svg11.dtd\">\n<!-- Created with matplotlib (https://matplotlib.org/) -->\n<svg height=\"248.518125pt\" version=\"1.1\" viewBox=\"0 0 377.304687 248.518125\" width=\"377.304687pt\" xmlns=\"http://www.w3.org/2000/svg\" xmlns:xlink=\"http://www.w3.org/1999/xlink\">\n <metadata>\n  <rdf:RDF xmlns:cc=\"http://creativecommons.org/ns#\" xmlns:dc=\"http://purl.org/dc/elements/1.1/\" xmlns:rdf=\"http://www.w3.org/1999/02/22-rdf-syntax-ns#\">\n   <cc:Work>\n    <dc:type rdf:resource=\"http://purl.org/dc/dcmitype/StillImage\"/>\n    <dc:date>2020-09-15T22:55:51.011528</dc:date>\n    <dc:format>image/svg+xml</dc:format>\n    <dc:creator>\n     <cc:Agent>\n      <dc:title>Matplotlib v3.3.1, https://matplotlib.org/</dc:title>\n     </cc:Agent>\n    </dc:creator>\n   </cc:Work>\n  </rdf:RDF>\n </metadata>\n <defs>\n  <style type=\"text/css\">*{stroke-linecap:butt;stroke-linejoin:round;}</style>\n </defs>\n <g id=\"figure_1\">\n  <g id=\"patch_1\">\n   <path d=\"M 0 248.518125 \nL 377.304687 248.518125 \nL 377.304687 0 \nL 0 0 \nz\n\" style=\"fill:none;\"/>\n  </g>\n  <g id=\"axes_1\">\n   <g id=\"patch_2\">\n    <path d=\"M 35.304688 224.64 \nL 370.104688 224.64 \nL 370.104688 7.2 \nL 35.304688 7.2 \nz\n\" style=\"fill:#ffffff;\"/>\n   </g>\n   <g id=\"PathCollection_1\">\n    <defs>\n     <path d=\"M 0 3 \nC 0.795609 3 1.55874 2.683901 2.12132 2.12132 \nC 2.683901 1.55874 3 0.795609 3 0 \nC 3 -0.795609 2.683901 -1.55874 2.12132 -2.12132 \nC 1.55874 -2.683901 0.795609 -3 0 -3 \nC -0.795609 -3 -1.55874 -2.683901 -2.12132 -2.12132 \nC -2.683901 -1.55874 -3 -0.795609 -3 0 \nC -3 0.795609 -2.683901 1.55874 -2.12132 2.12132 \nC -1.55874 2.683901 -0.795609 3 0 3 \nz\n\" id=\"md5e682a39a\" style=\"stroke:#1f77b4;\"/>\n    </defs>\n    <g clip-path=\"url(#p66280a40af)\">\n     <use style=\"fill:#1f77b4;stroke:#1f77b4;\" x=\"319.617528\" xlink:href=\"#md5e682a39a\" y=\"39.952618\"/>\n     <use style=\"fill:#1f77b4;stroke:#1f77b4;\" x=\"164.089068\" xlink:href=\"#md5e682a39a\" y=\"121.18927\"/>\n     <use style=\"fill:#1f77b4;stroke:#1f77b4;\" x=\"213.566793\" xlink:href=\"#md5e682a39a\" y=\"61.334435\"/>\n     <use style=\"fill:#1f77b4;stroke:#1f77b4;\" x=\"258.192971\" xlink:href=\"#md5e682a39a\" y=\"66.157291\"/>\n     <use style=\"fill:#1f77b4;stroke:#1f77b4;\" x=\"181.490615\" xlink:href=\"#md5e682a39a\" y=\"33.129843\"/>\n     <use style=\"fill:#1f77b4;stroke:#1f77b4;\" x=\"178.130918\" xlink:href=\"#md5e682a39a\" y=\"90.956368\"/>\n     <use style=\"fill:#1f77b4;stroke:#1f77b4;\" x=\"282.520488\" xlink:href=\"#md5e682a39a\" y=\"59.199417\"/>\n     <use style=\"fill:#1f77b4;stroke:#1f77b4;\" x=\"211.736304\" xlink:href=\"#md5e682a39a\" y=\"104.734685\"/>\n     <use style=\"fill:#1f77b4;stroke:#1f77b4;\" x=\"108.068888\" xlink:href=\"#md5e682a39a\" y=\"54.989561\"/>\n     <use style=\"fill:#1f77b4;stroke:#1f77b4;\" x=\"171.668897\" xlink:href=\"#md5e682a39a\" y=\"69.852298\"/>\n     <use style=\"fill:#1f77b4;stroke:#1f77b4;\" x=\"258.954645\" xlink:href=\"#md5e682a39a\" y=\"102.414556\"/>\n     <use style=\"fill:#1f77b4;stroke:#1f77b4;\" x=\"224.419978\" xlink:href=\"#md5e682a39a\" y=\"92.728472\"/>\n     <use style=\"fill:#1f77b4;stroke:#1f77b4;\" x=\"237.151245\" xlink:href=\"#md5e682a39a\" y=\"140.792086\"/>\n     <use style=\"fill:#1f77b4;stroke:#1f77b4;\" x=\"231.733987\" xlink:href=\"#md5e682a39a\" y=\"128.25215\"/>\n     <use style=\"fill:#1f77b4;stroke:#1f77b4;\" x=\"228.575895\" xlink:href=\"#md5e682a39a\" y=\"109.646036\"/>\n     <use style=\"fill:#1f77b4;stroke:#1f77b4;\" x=\"255.460869\" xlink:href=\"#md5e682a39a\" y=\"97.727451\"/>\n     <use style=\"fill:#1f77b4;stroke:#1f77b4;\" x=\"122.238997\" xlink:href=\"#md5e682a39a\" y=\"83.58434\"/>\n     <use style=\"fill:#1f77b4;stroke:#1f77b4;\" x=\"320.501179\" xlink:href=\"#md5e682a39a\" y=\"85.552678\"/>\n     <use style=\"fill:#1f77b4;stroke:#1f77b4;\" x=\"63.92279\" xlink:href=\"#md5e682a39a\" y=\"115.269433\"/>\n     <use style=\"fill:#1f77b4;stroke:#1f77b4;\" x=\"230.210359\" xlink:href=\"#md5e682a39a\" y=\"118.516111\"/>\n     <use style=\"fill:#1f77b4;stroke:#1f77b4;\" x=\"162.9365\" xlink:href=\"#md5e682a39a\" y=\"115.262629\"/>\n     <use style=\"fill:#1f77b4;stroke:#1f77b4;\" x=\"229.098364\" xlink:href=\"#md5e682a39a\" y=\"124.660545\"/>\n     <use style=\"fill:#1f77b4;stroke:#1f77b4;\" x=\"295.349888\" xlink:href=\"#md5e682a39a\" y=\"153.046699\"/>\n     <use style=\"fill:#1f77b4;stroke:#1f77b4;\" x=\"157.295082\" xlink:href=\"#md5e682a39a\" y=\"123.936898\"/>\n     <use style=\"fill:#1f77b4;stroke:#1f77b4;\" x=\"252.661882\" xlink:href=\"#md5e682a39a\" y=\"65.823631\"/>\n     <use style=\"fill:#1f77b4;stroke:#1f77b4;\" x=\"127.019308\" xlink:href=\"#md5e682a39a\" y=\"104.932906\"/>\n     <use style=\"fill:#1f77b4;stroke:#1f77b4;\" x=\"254.046185\" xlink:href=\"#md5e682a39a\" y=\"67.955527\"/>\n     <use style=\"fill:#1f77b4;stroke:#1f77b4;\" x=\"176.756872\" xlink:href=\"#md5e682a39a\" y=\"101.892084\"/>\n     <use style=\"fill:#1f77b4;stroke:#1f77b4;\" x=\"191.520922\" xlink:href=\"#md5e682a39a\" y=\"135.076297\"/>\n     <use style=\"fill:#1f77b4;stroke:#1f77b4;\" x=\"91.471951\" xlink:href=\"#md5e682a39a\" y=\"141.106066\"/>\n     <use style=\"fill:#1f77b4;stroke:#1f77b4;\" x=\"104.553656\" xlink:href=\"#md5e682a39a\" y=\"101.427496\"/>\n     <use style=\"fill:#1f77b4;stroke:#1f77b4;\" x=\"143.681897\" xlink:href=\"#md5e682a39a\" y=\"166.733079\"/>\n     <use style=\"fill:#1f77b4;stroke:#1f77b4;\" x=\"152.101807\" xlink:href=\"#md5e682a39a\" y=\"77.466378\"/>\n     <use style=\"fill:#1f77b4;stroke:#1f77b4;\" x=\"168.046763\" xlink:href=\"#md5e682a39a\" y=\"149.443253\"/>\n     <use style=\"fill:#1f77b4;stroke:#1f77b4;\" x=\"160.58506\" xlink:href=\"#md5e682a39a\" y=\"146.595018\"/>\n     <use style=\"fill:#1f77b4;stroke:#1f77b4;\" x=\"142.584675\" xlink:href=\"#md5e682a39a\" y=\"149.827383\"/>\n     <use style=\"fill:#1f77b4;stroke:#1f77b4;\" x=\"189.322983\" xlink:href=\"#md5e682a39a\" y=\"133.274904\"/>\n     <use style=\"fill:#1f77b4;stroke:#1f77b4;\" x=\"237.079809\" xlink:href=\"#md5e682a39a\" y=\"99.475722\"/>\n     <use style=\"fill:#1f77b4;stroke:#1f77b4;\" x=\"247.950986\" xlink:href=\"#md5e682a39a\" y=\"146.975091\"/>\n     <use style=\"fill:#1f77b4;stroke:#1f77b4;\" x=\"173.003232\" xlink:href=\"#md5e682a39a\" y=\"91.221586\"/>\n     <use style=\"fill:#1f77b4;stroke:#1f77b4;\" x=\"343.413298\" xlink:href=\"#md5e682a39a\" y=\"135.244654\"/>\n     <use style=\"fill:#1f77b4;stroke:#1f77b4;\" x=\"238.189048\" xlink:href=\"#md5e682a39a\" y=\"104.155313\"/>\n     <use style=\"fill:#1f77b4;stroke:#1f77b4;\" x=\"95.621639\" xlink:href=\"#md5e682a39a\" y=\"140.1222\"/>\n     <use style=\"fill:#1f77b4;stroke:#1f77b4;\" x=\"76.621239\" xlink:href=\"#md5e682a39a\" y=\"71.390265\"/>\n     <use style=\"fill:#1f77b4;stroke:#1f77b4;\" x=\"202.179612\" xlink:href=\"#md5e682a39a\" y=\"47.88625\"/>\n     <use style=\"fill:#1f77b4;stroke:#1f77b4;\" x=\"241.329926\" xlink:href=\"#md5e682a39a\" y=\"97.44549\"/>\n     <use style=\"fill:#1f77b4;stroke:#1f77b4;\" x=\"143.26926\" xlink:href=\"#md5e682a39a\" y=\"128.531591\"/>\n     <use style=\"fill:#1f77b4;stroke:#1f77b4;\" x=\"157.848255\" xlink:href=\"#md5e682a39a\" y=\"115.159379\"/>\n     <use style=\"fill:#1f77b4;stroke:#1f77b4;\" x=\"276.882624\" xlink:href=\"#md5e682a39a\" y=\"81.292286\"/>\n     <use style=\"fill:#1f77b4;stroke:#1f77b4;\" x=\"200.049823\" xlink:href=\"#md5e682a39a\" y=\"118.81263\"/>\n     <use style=\"fill:#1f77b4;stroke:#1f77b4;\" x=\"246.083827\" xlink:href=\"#md5e682a39a\" y=\"78.306985\"/>\n     <use style=\"fill:#1f77b4;stroke:#1f77b4;\" x=\"248.027192\" xlink:href=\"#md5e682a39a\" y=\"166.179576\"/>\n     <use style=\"fill:#1f77b4;stroke:#1f77b4;\" x=\"257.281721\" xlink:href=\"#md5e682a39a\" y=\"150.657522\"/>\n     <use style=\"fill:#1f77b4;stroke:#1f77b4;\" x=\"50.522869\" xlink:href=\"#md5e682a39a\" y=\"176.103334\"/>\n     <use style=\"fill:#1f77b4;stroke:#1f77b4;\" x=\"124.383483\" xlink:href=\"#md5e682a39a\" y=\"175.592812\"/>\n     <use style=\"fill:#1f77b4;stroke:#1f77b4;\" x=\"289.646189\" xlink:href=\"#md5e682a39a\" y=\"81.388423\"/>\n     <use style=\"fill:#1f77b4;stroke:#1f77b4;\" x=\"354.886506\" xlink:href=\"#md5e682a39a\" y=\"106.021925\"/>\n     <use style=\"fill:#1f77b4;stroke:#1f77b4;\" x=\"111.463109\" xlink:href=\"#md5e682a39a\" y=\"117.885706\"/>\n     <use style=\"fill:#1f77b4;stroke:#1f77b4;\" x=\"178.421854\" xlink:href=\"#md5e682a39a\" y=\"156.969083\"/>\n     <use style=\"fill:#1f77b4;stroke:#1f77b4;\" x=\"184.221156\" xlink:href=\"#md5e682a39a\" y=\"214.756364\"/>\n     <use style=\"fill:#1f77b4;stroke:#1f77b4;\" x=\"238.448461\" xlink:href=\"#md5e682a39a\" y=\"97.956918\"/>\n     <use style=\"fill:#1f77b4;stroke:#1f77b4;\" x=\"219.331883\" xlink:href=\"#md5e682a39a\" y=\"38.033767\"/>\n     <use style=\"fill:#1f77b4;stroke:#1f77b4;\" x=\"309.434363\" xlink:href=\"#md5e682a39a\" y=\"84.291926\"/>\n     <use style=\"fill:#1f77b4;stroke:#1f77b4;\" x=\"118.131073\" xlink:href=\"#md5e682a39a\" y=\"120.538599\"/>\n     <use style=\"fill:#1f77b4;stroke:#1f77b4;\" x=\"265.129346\" xlink:href=\"#md5e682a39a\" y=\"62.233267\"/>\n     <use style=\"fill:#1f77b4;stroke:#1f77b4;\" x=\"260.089547\" xlink:href=\"#md5e682a39a\" y=\"78.5185\"/>\n     <use style=\"fill:#1f77b4;stroke:#1f77b4;\" x=\"156.544114\" xlink:href=\"#md5e682a39a\" y=\"81.911242\"/>\n     <use style=\"fill:#1f77b4;stroke:#1f77b4;\" x=\"163.067689\" xlink:href=\"#md5e682a39a\" y=\"62.738257\"/>\n     <use style=\"fill:#1f77b4;stroke:#1f77b4;\" x=\"215.528204\" xlink:href=\"#md5e682a39a\" y=\"132.244008\"/>\n     <use style=\"fill:#1f77b4;stroke:#1f77b4;\" x=\"159.144674\" xlink:href=\"#md5e682a39a\" y=\"152.896207\"/>\n     <use style=\"fill:#1f77b4;stroke:#1f77b4;\" x=\"198.695234\" xlink:href=\"#md5e682a39a\" y=\"125.0962\"/>\n     <use style=\"fill:#1f77b4;stroke:#1f77b4;\" x=\"183.09951\" xlink:href=\"#md5e682a39a\" y=\"85.31568\"/>\n     <use style=\"fill:#1f77b4;stroke:#1f77b4;\" x=\"261.487392\" xlink:href=\"#md5e682a39a\" y=\"73.363012\"/>\n     <use style=\"fill:#1f77b4;stroke:#1f77b4;\" x=\"334.108163\" xlink:href=\"#md5e682a39a\" y=\"80.346724\"/>\n     <use style=\"fill:#1f77b4;stroke:#1f77b4;\" x=\"149.995175\" xlink:href=\"#md5e682a39a\" y=\"120.158322\"/>\n     <use style=\"fill:#1f77b4;stroke:#1f77b4;\" x=\"314.682341\" xlink:href=\"#md5e682a39a\" y=\"107.188766\"/>\n     <use style=\"fill:#1f77b4;stroke:#1f77b4;\" x=\"225.816206\" xlink:href=\"#md5e682a39a\" y=\"103.265421\"/>\n     <use style=\"fill:#1f77b4;stroke:#1f77b4;\" x=\"222.260459\" xlink:href=\"#md5e682a39a\" y=\"78.09476\"/>\n     <use style=\"fill:#1f77b4;stroke:#1f77b4;\" x=\"225.367048\" xlink:href=\"#md5e682a39a\" y=\"70.285031\"/>\n     <use style=\"fill:#1f77b4;stroke:#1f77b4;\" x=\"258.846835\" xlink:href=\"#md5e682a39a\" y=\"62.896561\"/>\n     <use style=\"fill:#1f77b4;stroke:#1f77b4;\" x=\"82.128201\" xlink:href=\"#md5e682a39a\" y=\"150.943211\"/>\n     <use style=\"fill:#1f77b4;stroke:#1f77b4;\" x=\"223.9507\" xlink:href=\"#md5e682a39a\" y=\"88.7071\"/>\n     <use style=\"fill:#1f77b4;stroke:#1f77b4;\" x=\"175.347528\" xlink:href=\"#md5e682a39a\" y=\"128.117429\"/>\n     <use style=\"fill:#1f77b4;stroke:#1f77b4;\" x=\"211.734425\" xlink:href=\"#md5e682a39a\" y=\"59.268592\"/>\n     <use style=\"fill:#1f77b4;stroke:#1f77b4;\" x=\"174.672792\" xlink:href=\"#md5e682a39a\" y=\"87.211673\"/>\n     <use style=\"fill:#1f77b4;stroke:#1f77b4;\" x=\"275.116416\" xlink:href=\"#md5e682a39a\" y=\"45.205276\"/>\n     <use style=\"fill:#1f77b4;stroke:#1f77b4;\" x=\"247.861656\" xlink:href=\"#md5e682a39a\" y=\"89.064142\"/>\n     <use style=\"fill:#1f77b4;stroke:#1f77b4;\" x=\"228.690649\" xlink:href=\"#md5e682a39a\" y=\"125.993622\"/>\n     <use style=\"fill:#1f77b4;stroke:#1f77b4;\" x=\"170.678695\" xlink:href=\"#md5e682a39a\" y=\"141.430029\"/>\n     <use style=\"fill:#1f77b4;stroke:#1f77b4;\" x=\"217.867916\" xlink:href=\"#md5e682a39a\" y=\"130.793574\"/>\n     <use style=\"fill:#1f77b4;stroke:#1f77b4;\" x=\"285.92061\" xlink:href=\"#md5e682a39a\" y=\"17.083636\"/>\n     <use style=\"fill:#1f77b4;stroke:#1f77b4;\" x=\"246.210088\" xlink:href=\"#md5e682a39a\" y=\"150.279774\"/>\n     <use style=\"fill:#1f77b4;stroke:#1f77b4;\" x=\"203.468851\" xlink:href=\"#md5e682a39a\" y=\"131.231289\"/>\n     <use style=\"fill:#1f77b4;stroke:#1f77b4;\" x=\"222.563322\" xlink:href=\"#md5e682a39a\" y=\"149.093382\"/>\n     <use style=\"fill:#1f77b4;stroke:#1f77b4;\" x=\"56.889371\" xlink:href=\"#md5e682a39a\" y=\"116.968049\"/>\n     <use style=\"fill:#1f77b4;stroke:#1f77b4;\" x=\"233.726695\" xlink:href=\"#md5e682a39a\" y=\"82.26948\"/>\n     <use style=\"fill:#1f77b4;stroke:#1f77b4;\" x=\"226.967214\" xlink:href=\"#md5e682a39a\" y=\"134.432521\"/>\n     <use style=\"fill:#1f77b4;stroke:#1f77b4;\" x=\"182.68351\" xlink:href=\"#md5e682a39a\" y=\"131.18717\"/>\n     <use style=\"fill:#1f77b4;stroke:#1f77b4;\" x=\"234.095254\" xlink:href=\"#md5e682a39a\" y=\"88.231783\"/>\n     <use style=\"fill:#1f77b4;stroke:#1f77b4;\" x=\"144.066118\" xlink:href=\"#md5e682a39a\" y=\"28.841171\"/>\n    </g>\n   </g>\n   <g id=\"matplotlib.axis_1\">\n    <g id=\"xtick_1\">\n     <g id=\"line2d_1\">\n      <path clip-path=\"url(#p66280a40af)\" d=\"M 68.128907 224.64 \nL 68.128907 7.2 \n\" style=\"fill:none;stroke:#b0b0b0;stroke-linecap:square;stroke-width:0.8;\"/>\n     </g>\n     <g id=\"line2d_2\">\n      <defs>\n       <path d=\"M 0 0 \nL 0 3.5 \n\" id=\"me12083c612\" style=\"stroke:#000000;stroke-width:0.8;\"/>\n      </defs>\n      <g>\n       <use style=\"stroke:#000000;stroke-width:0.8;\" x=\"68.128907\" xlink:href=\"#me12083c612\" y=\"224.64\"/>\n      </g>\n     </g>\n     <g id=\"text_1\">\n      <!-- −2 -->\n      <g transform=\"translate(60.757813 239.238437)scale(0.1 -0.1)\">\n       <defs>\n        <path d=\"M 10.59375 35.5 \nL 73.1875 35.5 \nL 73.1875 27.203125 \nL 10.59375 27.203125 \nz\n\" id=\"DejaVuSans-8722\"/>\n        <path d=\"M 19.1875 8.296875 \nL 53.609375 8.296875 \nL 53.609375 0 \nL 7.328125 0 \nL 7.328125 8.296875 \nQ 12.9375 14.109375 22.625 23.890625 \nQ 32.328125 33.6875 34.8125 36.53125 \nQ 39.546875 41.84375 41.421875 45.53125 \nQ 43.3125 49.21875 43.3125 52.78125 \nQ 43.3125 58.59375 39.234375 62.25 \nQ 35.15625 65.921875 28.609375 65.921875 \nQ 23.96875 65.921875 18.8125 64.3125 \nQ 13.671875 62.703125 7.8125 59.421875 \nL 7.8125 69.390625 \nQ 13.765625 71.78125 18.9375 73 \nQ 24.125 74.21875 28.421875 74.21875 \nQ 39.75 74.21875 46.484375 68.546875 \nQ 53.21875 62.890625 53.21875 53.421875 \nQ 53.21875 48.921875 51.53125 44.890625 \nQ 49.859375 40.875 45.40625 35.40625 \nQ 44.1875 33.984375 37.640625 27.21875 \nQ 31.109375 20.453125 19.1875 8.296875 \nz\n\" id=\"DejaVuSans-50\"/>\n       </defs>\n       <use xlink:href=\"#DejaVuSans-8722\"/>\n       <use x=\"83.789062\" xlink:href=\"#DejaVuSans-50\"/>\n      </g>\n     </g>\n    </g>\n    <g id=\"xtick_2\">\n     <g id=\"line2d_3\">\n      <path clip-path=\"url(#p66280a40af)\" d=\"M 136.892526 224.64 \nL 136.892526 7.2 \n\" style=\"fill:none;stroke:#b0b0b0;stroke-linecap:square;stroke-width:0.8;\"/>\n     </g>\n     <g id=\"line2d_4\">\n      <g>\n       <use style=\"stroke:#000000;stroke-width:0.8;\" x=\"136.892526\" xlink:href=\"#me12083c612\" y=\"224.64\"/>\n      </g>\n     </g>\n     <g id=\"text_2\">\n      <!-- −1 -->\n      <g transform=\"translate(129.521432 239.238437)scale(0.1 -0.1)\">\n       <defs>\n        <path d=\"M 12.40625 8.296875 \nL 28.515625 8.296875 \nL 28.515625 63.921875 \nL 10.984375 60.40625 \nL 10.984375 69.390625 \nL 28.421875 72.90625 \nL 38.28125 72.90625 \nL 38.28125 8.296875 \nL 54.390625 8.296875 \nL 54.390625 0 \nL 12.40625 0 \nz\n\" id=\"DejaVuSans-49\"/>\n       </defs>\n       <use xlink:href=\"#DejaVuSans-8722\"/>\n       <use x=\"83.789062\" xlink:href=\"#DejaVuSans-49\"/>\n      </g>\n     </g>\n    </g>\n    <g id=\"xtick_3\">\n     <g id=\"line2d_5\">\n      <path clip-path=\"url(#p66280a40af)\" d=\"M 205.656146 224.64 \nL 205.656146 7.2 \n\" style=\"fill:none;stroke:#b0b0b0;stroke-linecap:square;stroke-width:0.8;\"/>\n     </g>\n     <g id=\"line2d_6\">\n      <g>\n       <use style=\"stroke:#000000;stroke-width:0.8;\" x=\"205.656146\" xlink:href=\"#me12083c612\" y=\"224.64\"/>\n      </g>\n     </g>\n     <g id=\"text_3\">\n      <!-- 0 -->\n      <g transform=\"translate(202.474896 239.238437)scale(0.1 -0.1)\">\n       <defs>\n        <path d=\"M 31.78125 66.40625 \nQ 24.171875 66.40625 20.328125 58.90625 \nQ 16.5 51.421875 16.5 36.375 \nQ 16.5 21.390625 20.328125 13.890625 \nQ 24.171875 6.390625 31.78125 6.390625 \nQ 39.453125 6.390625 43.28125 13.890625 \nQ 47.125 21.390625 47.125 36.375 \nQ 47.125 51.421875 43.28125 58.90625 \nQ 39.453125 66.40625 31.78125 66.40625 \nz\nM 31.78125 74.21875 \nQ 44.046875 74.21875 50.515625 64.515625 \nQ 56.984375 54.828125 56.984375 36.375 \nQ 56.984375 17.96875 50.515625 8.265625 \nQ 44.046875 -1.421875 31.78125 -1.421875 \nQ 19.53125 -1.421875 13.0625 8.265625 \nQ 6.59375 17.96875 6.59375 36.375 \nQ 6.59375 54.828125 13.0625 64.515625 \nQ 19.53125 74.21875 31.78125 74.21875 \nz\n\" id=\"DejaVuSans-48\"/>\n       </defs>\n       <use xlink:href=\"#DejaVuSans-48\"/>\n      </g>\n     </g>\n    </g>\n    <g id=\"xtick_4\">\n     <g id=\"line2d_7\">\n      <path clip-path=\"url(#p66280a40af)\" d=\"M 274.419765 224.64 \nL 274.419765 7.2 \n\" style=\"fill:none;stroke:#b0b0b0;stroke-linecap:square;stroke-width:0.8;\"/>\n     </g>\n     <g id=\"line2d_8\">\n      <g>\n       <use style=\"stroke:#000000;stroke-width:0.8;\" x=\"274.419765\" xlink:href=\"#me12083c612\" y=\"224.64\"/>\n      </g>\n     </g>\n     <g id=\"text_4\">\n      <!-- 1 -->\n      <g transform=\"translate(271.238515 239.238437)scale(0.1 -0.1)\">\n       <use xlink:href=\"#DejaVuSans-49\"/>\n      </g>\n     </g>\n    </g>\n    <g id=\"xtick_5\">\n     <g id=\"line2d_9\">\n      <path clip-path=\"url(#p66280a40af)\" d=\"M 343.183385 224.64 \nL 343.183385 7.2 \n\" style=\"fill:none;stroke:#b0b0b0;stroke-linecap:square;stroke-width:0.8;\"/>\n     </g>\n     <g id=\"line2d_10\">\n      <g>\n       <use style=\"stroke:#000000;stroke-width:0.8;\" x=\"343.183385\" xlink:href=\"#me12083c612\" y=\"224.64\"/>\n      </g>\n     </g>\n     <g id=\"text_5\">\n      <!-- 2 -->\n      <g transform=\"translate(340.002135 239.238437)scale(0.1 -0.1)\">\n       <use xlink:href=\"#DejaVuSans-50\"/>\n      </g>\n     </g>\n    </g>\n   </g>\n   <g id=\"matplotlib.axis_2\">\n    <g id=\"ytick_1\">\n     <g id=\"line2d_11\">\n      <path clip-path=\"url(#p66280a40af)\" d=\"M 35.304688 209.760622 \nL 370.104688 209.760622 \n\" style=\"fill:none;stroke:#b0b0b0;stroke-linecap:square;stroke-width:0.8;\"/>\n     </g>\n     <g id=\"line2d_12\">\n      <defs>\n       <path d=\"M 0 0 \nL -3.5 0 \n\" id=\"mfc47048d78\" style=\"stroke:#000000;stroke-width:0.8;\"/>\n      </defs>\n      <g>\n       <use style=\"stroke:#000000;stroke-width:0.8;\" x=\"35.304688\" xlink:href=\"#mfc47048d78\" y=\"209.760622\"/>\n      </g>\n     </g>\n     <g id=\"text_6\">\n      <!-- −60 -->\n      <g transform=\"translate(7.2 213.559841)scale(0.1 -0.1)\">\n       <defs>\n        <path d=\"M 33.015625 40.375 \nQ 26.375 40.375 22.484375 35.828125 \nQ 18.609375 31.296875 18.609375 23.390625 \nQ 18.609375 15.53125 22.484375 10.953125 \nQ 26.375 6.390625 33.015625 6.390625 \nQ 39.65625 6.390625 43.53125 10.953125 \nQ 47.40625 15.53125 47.40625 23.390625 \nQ 47.40625 31.296875 43.53125 35.828125 \nQ 39.65625 40.375 33.015625 40.375 \nz\nM 52.59375 71.296875 \nL 52.59375 62.3125 \nQ 48.875 64.0625 45.09375 64.984375 \nQ 41.3125 65.921875 37.59375 65.921875 \nQ 27.828125 65.921875 22.671875 59.328125 \nQ 17.53125 52.734375 16.796875 39.40625 \nQ 19.671875 43.65625 24.015625 45.921875 \nQ 28.375 48.1875 33.59375 48.1875 \nQ 44.578125 48.1875 50.953125 41.515625 \nQ 57.328125 34.859375 57.328125 23.390625 \nQ 57.328125 12.15625 50.6875 5.359375 \nQ 44.046875 -1.421875 33.015625 -1.421875 \nQ 20.359375 -1.421875 13.671875 8.265625 \nQ 6.984375 17.96875 6.984375 36.375 \nQ 6.984375 53.65625 15.1875 63.9375 \nQ 23.390625 74.21875 37.203125 74.21875 \nQ 40.921875 74.21875 44.703125 73.484375 \nQ 48.484375 72.75 52.59375 71.296875 \nz\n\" id=\"DejaVuSans-54\"/>\n       </defs>\n       <use xlink:href=\"#DejaVuSans-8722\"/>\n       <use x=\"83.789062\" xlink:href=\"#DejaVuSans-54\"/>\n       <use x=\"147.412109\" xlink:href=\"#DejaVuSans-48\"/>\n      </g>\n     </g>\n    </g>\n    <g id=\"ytick_2\">\n     <g id=\"line2d_13\">\n      <path clip-path=\"url(#p66280a40af)\" d=\"M 35.304688 174.46597 \nL 370.104688 174.46597 \n\" style=\"fill:none;stroke:#b0b0b0;stroke-linecap:square;stroke-width:0.8;\"/>\n     </g>\n     <g id=\"line2d_14\">\n      <g>\n       <use style=\"stroke:#000000;stroke-width:0.8;\" x=\"35.304688\" xlink:href=\"#mfc47048d78\" y=\"174.46597\"/>\n      </g>\n     </g>\n     <g id=\"text_7\">\n      <!-- −40 -->\n      <g transform=\"translate(7.2 178.265189)scale(0.1 -0.1)\">\n       <defs>\n        <path d=\"M 37.796875 64.3125 \nL 12.890625 25.390625 \nL 37.796875 25.390625 \nz\nM 35.203125 72.90625 \nL 47.609375 72.90625 \nL 47.609375 25.390625 \nL 58.015625 25.390625 \nL 58.015625 17.1875 \nL 47.609375 17.1875 \nL 47.609375 0 \nL 37.796875 0 \nL 37.796875 17.1875 \nL 4.890625 17.1875 \nL 4.890625 26.703125 \nz\n\" id=\"DejaVuSans-52\"/>\n       </defs>\n       <use xlink:href=\"#DejaVuSans-8722\"/>\n       <use x=\"83.789062\" xlink:href=\"#DejaVuSans-52\"/>\n       <use x=\"147.412109\" xlink:href=\"#DejaVuSans-48\"/>\n      </g>\n     </g>\n    </g>\n    <g id=\"ytick_3\">\n     <g id=\"line2d_15\">\n      <path clip-path=\"url(#p66280a40af)\" d=\"M 35.304688 139.171318 \nL 370.104688 139.171318 \n\" style=\"fill:none;stroke:#b0b0b0;stroke-linecap:square;stroke-width:0.8;\"/>\n     </g>\n     <g id=\"line2d_16\">\n      <g>\n       <use style=\"stroke:#000000;stroke-width:0.8;\" x=\"35.304688\" xlink:href=\"#mfc47048d78\" y=\"139.171318\"/>\n      </g>\n     </g>\n     <g id=\"text_8\">\n      <!-- −20 -->\n      <g transform=\"translate(7.2 142.970536)scale(0.1 -0.1)\">\n       <use xlink:href=\"#DejaVuSans-8722\"/>\n       <use x=\"83.789062\" xlink:href=\"#DejaVuSans-50\"/>\n       <use x=\"147.412109\" xlink:href=\"#DejaVuSans-48\"/>\n      </g>\n     </g>\n    </g>\n    <g id=\"ytick_4\">\n     <g id=\"line2d_17\">\n      <path clip-path=\"url(#p66280a40af)\" d=\"M 35.304688 103.876665 \nL 370.104688 103.876665 \n\" style=\"fill:none;stroke:#b0b0b0;stroke-linecap:square;stroke-width:0.8;\"/>\n     </g>\n     <g id=\"line2d_18\">\n      <g>\n       <use style=\"stroke:#000000;stroke-width:0.8;\" x=\"35.304688\" xlink:href=\"#mfc47048d78\" y=\"103.876665\"/>\n      </g>\n     </g>\n     <g id=\"text_9\">\n      <!-- 0 -->\n      <g transform=\"translate(21.942188 107.675884)scale(0.1 -0.1)\">\n       <use xlink:href=\"#DejaVuSans-48\"/>\n      </g>\n     </g>\n    </g>\n    <g id=\"ytick_5\">\n     <g id=\"line2d_19\">\n      <path clip-path=\"url(#p66280a40af)\" d=\"M 35.304688 68.582013 \nL 370.104688 68.582013 \n\" style=\"fill:none;stroke:#b0b0b0;stroke-linecap:square;stroke-width:0.8;\"/>\n     </g>\n     <g id=\"line2d_20\">\n      <g>\n       <use style=\"stroke:#000000;stroke-width:0.8;\" x=\"35.304688\" xlink:href=\"#mfc47048d78\" y=\"68.582013\"/>\n      </g>\n     </g>\n     <g id=\"text_10\">\n      <!-- 20 -->\n      <g transform=\"translate(15.579688 72.381231)scale(0.1 -0.1)\">\n       <use xlink:href=\"#DejaVuSans-50\"/>\n       <use x=\"63.623047\" xlink:href=\"#DejaVuSans-48\"/>\n      </g>\n     </g>\n    </g>\n    <g id=\"ytick_6\">\n     <g id=\"line2d_21\">\n      <path clip-path=\"url(#p66280a40af)\" d=\"M 35.304688 33.28736 \nL 370.104688 33.28736 \n\" style=\"fill:none;stroke:#b0b0b0;stroke-linecap:square;stroke-width:0.8;\"/>\n     </g>\n     <g id=\"line2d_22\">\n      <g>\n       <use style=\"stroke:#000000;stroke-width:0.8;\" x=\"35.304688\" xlink:href=\"#mfc47048d78\" y=\"33.28736\"/>\n      </g>\n     </g>\n     <g id=\"text_11\">\n      <!-- 40 -->\n      <g transform=\"translate(15.579688 37.086579)scale(0.1 -0.1)\">\n       <use xlink:href=\"#DejaVuSans-52\"/>\n       <use x=\"63.623047\" xlink:href=\"#DejaVuSans-48\"/>\n      </g>\n     </g>\n    </g>\n   </g>\n   <g id=\"patch_3\">\n    <path d=\"M 35.304688 224.64 \nL 35.304688 7.2 \n\" style=\"fill:none;stroke:#000000;stroke-linecap:square;stroke-linejoin:miter;stroke-width:0.8;\"/>\n   </g>\n   <g id=\"patch_4\">\n    <path d=\"M 370.104688 224.64 \nL 370.104688 7.2 \n\" style=\"fill:none;stroke:#000000;stroke-linecap:square;stroke-linejoin:miter;stroke-width:0.8;\"/>\n   </g>\n   <g id=\"patch_5\">\n    <path d=\"M 35.304688 224.64 \nL 370.104687 224.64 \n\" style=\"fill:none;stroke:#000000;stroke-linecap:square;stroke-linejoin:miter;stroke-width:0.8;\"/>\n   </g>\n   <g id=\"patch_6\">\n    <path d=\"M 35.304688 7.2 \nL 370.104687 7.2 \n\" style=\"fill:none;stroke:#000000;stroke-linecap:square;stroke-linejoin:miter;stroke-width:0.8;\"/>\n   </g>\n  </g>\n </g>\n <defs>\n  <clipPath id=\"p66280a40af\">\n   <rect height=\"217.44\" width=\"334.8\" x=\"35.304688\" y=\"7.2\"/>\n  </clipPath>\n </defs>\n</svg>\n",
      "image/png": "[encoded data removed]"
     },
     "metadata": {
      "needs_background": "light"
     }
    }
   ],
   "source": [
    "plt.scatter(d[0], d[1])\n",
    "plt.grid()\n",
    "plt.show()"
   ]
  },
  {
   "cell_type": "markdown",
   "metadata": {},
   "source": [
    "## 2. ユーザベース協調フィルタリング（メモリベース）"
   ]
  },
  {
   "cell_type": "code",
   "execution_count": 5,
   "metadata": {},
   "outputs": [],
   "source": [
    "from scipy.spatial.distance import cosine"
   ]
  },
  {
   "cell_type": "code",
   "execution_count": 6,
   "metadata": {},
   "outputs": [],
   "source": [
    "def calc_distance(u_index, u_matrix):\n",
    "    \"\"\"ユーザベース協調フィルタリング\"\"\"\n",
    "\n",
    "    # user_iの評価値ベクトル\n",
    "    pd_type = pd.core.frame.DataFrame\n",
    "    if type(u_matrix) == pd_type:\n",
    "        ratings = u_matrix.iloc[u_index, :]\n",
    "    else:\n",
    "        ratings = u_matrix[u_index]\n",
    "    # 最後の推薦で扱う、i`temと同じ次元数の推薦ベクトルを定義\n",
    "    similarity = np.zeros(len(ratings))\n",
    "\n",
    "    # user_iと、各userの評価値ベクトルからコサイン類似度を求める\n",
    "    for c_index in range(len(u_matrix)):\n",
    "        # user_cの評価値べクトル\n",
    "        if type(u_matrix) == pd_type:\n",
    "            compare_ratings = u_matrix.iloc[c_index, :]\n",
    "        else:\n",
    "            compare_ratings = u_matrix[c_index]\n",
    "        # c_indexがuser_iと同じindexの場合、計算しない\n",
    "        if u_index == c_index:\n",
    "            continue\n",
    "        # コサイン類似度\n",
    "        cosine_simirarity = 1. - cosine(ratings, compare_ratings)\n",
    "        # コサイン類似度をuser_cの評価値ベクトルと掛け合わせる\n",
    "        user_ratings = cosine_simirarity * compare_ratings\n",
    "        # 掛け合わせたモノを推薦ベクトルに足す\n",
    "        similarity += user_ratings\n",
    "    return similarity"
   ]
  },
  {
   "cell_type": "code",
   "execution_count": 7,
   "metadata": {},
   "outputs": [
    {
     "output_type": "execute_result",
     "data": {
      "text/plain": "array([[5.        , 3.        , 0.        , 0.        ],\n       [3.28691851, 2.73741402, 5.68512168, 6.54802003],\n       [2.5262421 , 1.4157276 , 7.04574847, 5.51760487],\n       [3.14224364, 1.66239432, 7.37173235, 7.94544857],\n       [3.59918514, 0.86177482, 6.50655551, 7.69062822]])"
     },
     "metadata": {},
     "execution_count": 7
    }
   ],
   "source": [
    "# sample data\n",
    "sample_data = np.array([\n",
    "    [5, 3, 0, 0],\n",
    "    [4, 0, 4, 1],\n",
    "    [1, 1, 0, 5],\n",
    "    [0, 0, 4, 4],\n",
    "    [0, 1, 5, 4],\n",
    "])\n",
    "\n",
    "# evalute\n",
    "evalutes = [sample_data[0]]\n",
    "for i in range(1, len(sample_data)):\n",
    "    predict_ratings = calc_distance(i, sample_data)\n",
    "    evalutes = np.append(evalutes, [predict_ratings], axis=0)\n",
    "\n",
    "evalutes"
   ]
  },
  {
   "cell_type": "markdown",
   "metadata": {},
   "source": [
    "## 3. Non-Negative Matrix Factorization(scikit-learn)"
   ]
  },
  {
   "cell_type": "markdown",
   "metadata": {},
   "source": [
    "- 100人のuser, 200個の商品のサンプルデータを作る"
   ]
  },
  {
   "cell_type": "code",
   "execution_count": 24,
   "metadata": {
    "tags": [
     "outputPrepend"
    ]
   },
   "outputs": [
    {
     "output_type": "execute_result",
     "data": {
      "text/plain": "         item1  item2  item3  item4  item5  item6  item7  item8  item9  \\\nuser1        4      0      0      0      0      3      0      0      3   \nuser2        0      0      0      0      0      0      3      0      5   \nuser3        0      1      0      5      0      0      0      0      0   \nuser4        0      3      0      0      0      0      0      1      0   \nuser5        0      1      4      5      5      0      4      0      0   \n...        ...    ...    ...    ...    ...    ...    ...    ...    ...   \nuser96       0      5      4      0      1      0      0      0      5   \nuser97       0      0      1      4      0      0      0      4      0   \nuser98       1      0      0      0      1      0      0      0      0   \nuser99       0      0      0      0      0      0      0      3      0   \nuser100      0      0      0      0      1      0      1      0      0   \n\n         item10  ...  item191  item192  item193  item194  item195  item196  \\\nuser1         0  ...        0        0        3        4        0        0   \nuser2         0  ...        0        0        0        0        0        1   \nuser3         0  ...        0        1        0        0        3        0   \nuser4         0  ...        0        4        0        0        0        0   \nuser5         4  ...        0        0        0        0        0        0   \n...         ...  ...      ...      ...      ...      ...      ...      ...   \nuser96        4  ...        0        5        0        0        0        5   \nuser97        0  ...        4        0        0        0        3        0   \nuser98        4  ...        1        0        0        0        0        4   \nuser99        0  ...        4        0        0        4        0        0   \nuser100       0  ...        0        0        4        0        4        1   \n\n         item197  item198  item199  item200  \nuser1          0        3        0        0  \nuser2          0        0        4        0  \nuser3          1        4        0        0  \nuser4          0        0        0        1  \nuser5          0        0        0        0  \n...          ...      ...      ...      ...  \nuser96         0        0        0        3  \nuser97         1        0        0        0  \nuser98         0        0        0        0  \nuser99         4        0        0        0  \nuser100        3        0        0        4  \n\n[100 rows x 200 columns]",
      "text/html": "<div>\n<style scoped>\n    .dataframe tbody tr th:only-of-type {\n        vertical-align: middle;\n    }\n\n    .dataframe tbody tr th {\n        vertical-align: top;\n    }\n\n    .dataframe thead th {\n        text-align: right;\n    }\n</style>\n<table border=\"1\" class=\"dataframe\">\n  <thead>\n    <tr style=\"text-align: right;\">\n      <th></th>\n      <th>item1</th>\n      <th>item2</th>\n      <th>item3</th>\n      <th>item4</th>\n      <th>item5</th>\n      <th>item6</th>\n      <th>item7</th>\n      <th>item8</th>\n      <th>item9</th>\n      <th>item10</th>\n      <th>...</th>\n      <th>item191</th>\n      <th>item192</th>\n      <th>item193</th>\n      <th>item194</th>\n      <th>item195</th>\n      <th>item196</th>\n      <th>item197</th>\n      <th>item198</th>\n      <th>item199</th>\n      <th>item200</th>\n    </tr>\n  </thead>\n  <tbody>\n    <tr>\n      <th>user1</th>\n      <td>4</td>\n      <td>0</td>\n      <td>0</td>\n      <td>0</td>\n      <td>0</td>\n      <td>3</td>\n      <td>0</td>\n      <td>0</td>\n      <td>3</td>\n      <td>0</td>\n      <td>...</td>\n      <td>0</td>\n      <td>0</td>\n      <td>3</td>\n      <td>4</td>\n      <td>0</td>\n      <td>0</td>\n      <td>0</td>\n      <td>3</td>\n      <td>0</td>\n      <td>0</td>\n    </tr>\n    <tr>\n      <th>user2</th>\n      <td>0</td>\n      <td>0</td>\n      <td>0</td>\n      <td>0</td>\n      <td>0</td>\n      <td>0</td>\n      <td>3</td>\n      <td>0</td>\n      <td>5</td>\n      <td>0</td>\n      <td>...</td>\n      <td>0</td>\n      <td>0</td>\n      <td>0</td>\n      <td>0</td>\n      <td>0</td>\n      <td>1</td>\n      <td>0</td>\n      <td>0</td>\n      <td>4</td>\n      <td>0</td>\n    </tr>\n    <tr>\n      <th>user3</th>\n      <td>0</td>\n      <td>1</td>\n      <td>0</td>\n      <td>5</td>\n      <td>0</td>\n      <td>0</td>\n      <td>0</td>\n      <td>0</td>\n      <td>0</td>\n      <td>0</td>\n      <td>...</td>\n      <td>0</td>\n      <td>1</td>\n      <td>0</td>\n      <td>0</td>\n      <td>3</td>\n      <td>0</td>\n      <td>1</td>\n      <td>4</td>\n      <td>0</td>\n      <td>0</td>\n    </tr>\n    <tr>\n      <th>user4</th>\n      <td>0</td>\n      <td>3</td>\n      <td>0</td>\n      <td>0</td>\n      <td>0</td>\n      <td>0</td>\n      <td>0</td>\n      <td>1</td>\n      <td>0</td>\n      <td>0</td>\n      <td>...</td>\n      <td>0</td>\n      <td>4</td>\n      <td>0</td>\n      <td>0</td>\n      <td>0</td>\n      <td>0</td>\n      <td>0</td>\n      <td>0</td>\n      <td>0</td>\n      <td>1</td>\n    </tr>\n    <tr>\n      <th>user5</th>\n      <td>0</td>\n      <td>1</td>\n      <td>4</td>\n      <td>5</td>\n      <td>5</td>\n      <td>0</td>\n      <td>4</td>\n      <td>0</td>\n      <td>0</td>\n      <td>4</td>\n      <td>...</td>\n      <td>0</td>\n      <td>0</td>\n      <td>0</td>\n      <td>0</td>\n      <td>0</td>\n      <td>0</td>\n      <td>0</td>\n      <td>0</td>\n      <td>0</td>\n      <td>0</td>\n    </tr>\n    <tr>\n      <th>...</th>\n      <td>...</td>\n      <td>...</td>\n      <td>...</td>\n      <td>...</td>\n      <td>...</td>\n      <td>...</td>\n      <td>...</td>\n      <td>...</td>\n      <td>...</td>\n      <td>...</td>\n      <td>...</td>\n      <td>...</td>\n      <td>...</td>\n      <td>...</td>\n      <td>...</td>\n      <td>...</td>\n      <td>...</td>\n      <td>...</td>\n      <td>...</td>\n      <td>...</td>\n      <td>...</td>\n    </tr>\n    <tr>\n      <th>user96</th>\n      <td>0</td>\n      <td>5</td>\n      <td>4</td>\n      <td>0</td>\n      <td>1</td>\n      <td>0</td>\n      <td>0</td>\n      <td>0</td>\n      <td>5</td>\n      <td>4</td>\n      <td>...</td>\n      <td>0</td>\n      <td>5</td>\n      <td>0</td>\n      <td>0</td>\n      <td>0</td>\n      <td>5</td>\n      <td>0</td>\n      <td>0</td>\n      <td>0</td>\n      <td>3</td>\n    </tr>\n    <tr>\n      <th>user97</th>\n      <td>0</td>\n      <td>0</td>\n      <td>1</td>\n      <td>4</td>\n      <td>0</td>\n      <td>0</td>\n      <td>0</td>\n      <td>4</td>\n      <td>0</td>\n      <td>0</td>\n      <td>...</td>\n      <td>4</td>\n      <td>0</td>\n      <td>0</td>\n      <td>0</td>\n      <td>3</td>\n      <td>0</td>\n      <td>1</td>\n      <td>0</td>\n      <td>0</td>\n      <td>0</td>\n    </tr>\n    <tr>\n      <th>user98</th>\n      <td>1</td>\n      <td>0</td>\n      <td>0</td>\n      <td>0</td>\n      <td>1</td>\n      <td>0</td>\n      <td>0</td>\n      <td>0</td>\n      <td>0</td>\n      <td>4</td>\n      <td>...</td>\n      <td>1</td>\n      <td>0</td>\n      <td>0</td>\n      <td>0</td>\n      <td>0</td>\n      <td>4</td>\n      <td>0</td>\n      <td>0</td>\n      <td>0</td>\n      <td>0</td>\n    </tr>\n    <tr>\n      <th>user99</th>\n      <td>0</td>\n      <td>0</td>\n      <td>0</td>\n      <td>0</td>\n      <td>0</td>\n      <td>0</td>\n      <td>0</td>\n      <td>3</td>\n      <td>0</td>\n      <td>0</td>\n      <td>...</td>\n      <td>4</td>\n      <td>0</td>\n      <td>0</td>\n      <td>4</td>\n      <td>0</td>\n      <td>0</td>\n      <td>4</td>\n      <td>0</td>\n      <td>0</td>\n      <td>0</td>\n    </tr>\n    <tr>\n      <th>user100</th>\n      <td>0</td>\n      <td>0</td>\n      <td>0</td>\n      <td>0</td>\n      <td>1</td>\n      <td>0</td>\n      <td>1</td>\n      <td>0</td>\n      <td>0</td>\n      <td>0</td>\n      <td>...</td>\n      <td>0</td>\n      <td>0</td>\n      <td>4</td>\n      <td>0</td>\n      <td>4</td>\n      <td>1</td>\n      <td>3</td>\n      <td>0</td>\n      <td>0</td>\n      <td>4</td>\n    </tr>\n  </tbody>\n</table>\n<p>100 rows × 200 columns</p>\n</div>"
     },
     "metadata": {},
     "execution_count": 24
    }
   ],
   "source": [
    "# matrix dimention parameter\n",
    "user_num = 100\n",
    "item_num = 200\n",
    "\n",
    "# rating probability\n",
    "probability = [.7, .06, .03, .06, .09, .06]\n",
    "\n",
    "# create rating matrix function\n",
    "def create_user_vector():\n",
    "    user_vector = np.random.choice(6, item_num, p=probability)\n",
    "    return user_vector\n",
    "\n",
    "# create matrix\n",
    "X = []\n",
    "\n",
    "for i in range(user_num):\n",
    "    vector = create_user_vector()\n",
    "    X.append(vector)\n",
    "\n",
    "# column of DataFrame\n",
    "X = np.array(X)\n",
    "index = [f'user{u}' for u in range(1, (user_num + 1))]\n",
    "columns = [f'item{i}' for i in range(1, (item_num + 1))]\n",
    "\n",
    "# DataFrame\n",
    "X = pd.DataFrame(X, index=index, columns=columns)\n",
    "\n",
    "X"
   ]
  },
  {
   "cell_type": "markdown",
   "metadata": {},
   "source": [
    "- はじめに作成した協調フィルタリングで計算"
   ]
  },
  {
   "cell_type": "code",
   "execution_count": 23,
   "metadata": {},
   "outputs": [
    {
     "output_type": "stream",
     "name": "stdout",
     "text": "CPU times: user 4.08 s, sys: 118 ms, total: 4.2 s\nWall time: 4.11 s\n"
    },
    {
     "output_type": "execute_result",
     "data": {
      "text/plain": "array([[31.0963252 , 29.17989834, 29.2305246 , 22.79250649, 24.13149284],\n       [27.62299478, 25.30182173, 24.64241942, 20.31919559, 20.31703191],\n       [25.78477089, 25.74568123, 25.83686743, 20.48148602, 21.43478116],\n       [24.6576451 , 24.44814209, 25.13416011, 17.45331802, 20.20713518],\n       [29.69851755, 28.50836856, 27.61049615, 22.58476237, 22.22540699]])"
     },
     "metadata": {},
     "execution_count": 23
    }
   ],
   "source": [
    "%%time\n",
    "result = [calc_distance(0, X)]\n",
    "for i in range(1, len(X)):\n",
    "    result = np.append(result, [calc_distance(i, X)], axis=0)\n",
    "\n",
    "result[:5, :5]"
   ]
  },
  {
   "cell_type": "markdown",
   "metadata": {},
   "source": [
    "- 精度がよくない\n",
    "- 一般的に、アイテム数が多くなると協調フィルタリングの精度は悪くなる（次元の呪い）\n",
    "- また、計算時間も大きくなる\n",
    "- 対策として次元削減を行う(Matrix Factorization)"
   ]
  },
  {
   "cell_type": "code",
   "execution_count": 10,
   "metadata": {},
   "outputs": [],
   "source": [
    "from sklearn.decomposition import NMF\n",
    "\n",
    "# hyper parameter\n",
    "k = 50\n",
    "\n",
    "# NMF\n",
    "nmf = NMF(init='random', n_components=k, random_state=42)"
   ]
  },
  {
   "cell_type": "markdown",
   "metadata": {},
   "source": [
    "- Xを近似させる`X = W * H`を求める"
   ]
  },
  {
   "cell_type": "code",
   "execution_count": 25,
   "metadata": {},
   "outputs": [
    {
     "output_type": "execute_result",
     "data": {
      "text/plain": "array([[0.        , 0.        , 0.        , 0.        , 0.        ],\n       [0.        , 0.        , 0.        , 0.        , 0.        ],\n       [0.        , 0.        , 0.        , 0.        , 0.        ],\n       [0.        , 0.        , 0.        , 0.        , 0.        ],\n       [0.        , 8.26298674, 0.        , 0.        , 0.        ]])"
     },
     "metadata": {},
     "execution_count": 25
    }
   ],
   "source": [
    "W = nmf.fit_transform(X)\n",
    "W[:5, :5]"
   ]
  },
  {
   "cell_type": "code",
   "execution_count": 26,
   "metadata": {},
   "outputs": [
    {
     "output_type": "execute_result",
     "data": {
      "text/plain": "array([[0.00198028, 0.53551088, 0.        , 0.38596441, 0.06357326],\n       [0.        , 0.05893453, 0.3676362 , 0.4941948 , 0.44861474],\n       [0.05309834, 0.73298577, 0.        , 0.        , 0.        ],\n       [0.        , 0.29806007, 0.        , 0.50652415, 0.        ],\n       [0.98557957, 0.02554405, 0.94053055, 0.        , 0.        ]])"
     },
     "metadata": {},
     "execution_count": 26
    }
   ],
   "source": [
    "H = nmf.components_\n",
    "H[:5, :5]"
   ]
  },
  {
   "cell_type": "code",
   "execution_count": 20,
   "metadata": {},
   "outputs": [
    {
     "output_type": "execute_result",
     "data": {
      "text/plain": "          item1     item2     item3     item4     item5\nuser1  0.007293  0.064254  0.410632  0.000000  0.048278\nuser2  1.824372  0.295406  0.461506  0.347684  0.483434\nuser3  0.006746  0.220383  0.097485  0.100892  3.555344\nuser4  0.093311  0.663325  3.061087  0.145513  0.232257\nuser5  0.169205  0.493065  0.205748  0.054398  0.042938",
      "text/html": "<div>\n<style scoped>\n    .dataframe tbody tr th:only-of-type {\n        vertical-align: middle;\n    }\n\n    .dataframe tbody tr th {\n        vertical-align: top;\n    }\n\n    .dataframe thead th {\n        text-align: right;\n    }\n</style>\n<table border=\"1\" class=\"dataframe\">\n  <thead>\n    <tr style=\"text-align: right;\">\n      <th></th>\n      <th>item1</th>\n      <th>item2</th>\n      <th>item3</th>\n      <th>item4</th>\n      <th>item5</th>\n    </tr>\n  </thead>\n  <tbody>\n    <tr>\n      <th>user1</th>\n      <td>0.007293</td>\n      <td>0.064254</td>\n      <td>0.410632</td>\n      <td>0.000000</td>\n      <td>0.048278</td>\n    </tr>\n    <tr>\n      <th>user2</th>\n      <td>1.824372</td>\n      <td>0.295406</td>\n      <td>0.461506</td>\n      <td>0.347684</td>\n      <td>0.483434</td>\n    </tr>\n    <tr>\n      <th>user3</th>\n      <td>0.006746</td>\n      <td>0.220383</td>\n      <td>0.097485</td>\n      <td>0.100892</td>\n      <td>3.555344</td>\n    </tr>\n    <tr>\n      <th>user4</th>\n      <td>0.093311</td>\n      <td>0.663325</td>\n      <td>3.061087</td>\n      <td>0.145513</td>\n      <td>0.232257</td>\n    </tr>\n    <tr>\n      <th>user5</th>\n      <td>0.169205</td>\n      <td>0.493065</td>\n      <td>0.205748</td>\n      <td>0.054398</td>\n      <td>0.042938</td>\n    </tr>\n  </tbody>\n</table>\n</div>"
     },
     "metadata": {},
     "execution_count": 20
    }
   ],
   "source": [
    "R = pd.DataFrame(np.dot(W, H), index=index, columns=columns)\n",
    "R.iloc[:5, :5]"
   ]
  },
  {
   "cell_type": "code",
   "execution_count": 21,
   "metadata": {},
   "outputs": [
    {
     "output_type": "execute_result",
     "data": {
      "text/plain": "143.58165169579053"
     },
     "metadata": {},
     "execution_count": 21
    }
   ],
   "source": [
    "nmf.reconstruction_err_"
   ]
  },
  {
   "cell_type": "code",
   "execution_count": 22,
   "metadata": {},
   "outputs": [
    {
     "output_type": "execute_result",
     "data": {
      "text/plain": "       item1  item2  item3  item4  item5\nuser1      0      0      0      0      0\nuser2      0      0      0      1      1\nuser3      0      0      0      0      4\nuser4      0      0      3      0      0\nuser5      0      0      0      0      0",
      "text/html": "<div>\n<style scoped>\n    .dataframe tbody tr th:only-of-type {\n        vertical-align: middle;\n    }\n\n    .dataframe tbody tr th {\n        vertical-align: top;\n    }\n\n    .dataframe thead th {\n        text-align: right;\n    }\n</style>\n<table border=\"1\" class=\"dataframe\">\n  <thead>\n    <tr style=\"text-align: right;\">\n      <th></th>\n      <th>item1</th>\n      <th>item2</th>\n      <th>item3</th>\n      <th>item4</th>\n      <th>item5</th>\n    </tr>\n  </thead>\n  <tbody>\n    <tr>\n      <th>user1</th>\n      <td>0</td>\n      <td>0</td>\n      <td>0</td>\n      <td>0</td>\n      <td>0</td>\n    </tr>\n    <tr>\n      <th>user2</th>\n      <td>0</td>\n      <td>0</td>\n      <td>0</td>\n      <td>1</td>\n      <td>1</td>\n    </tr>\n    <tr>\n      <th>user3</th>\n      <td>0</td>\n      <td>0</td>\n      <td>0</td>\n      <td>0</td>\n      <td>4</td>\n    </tr>\n    <tr>\n      <th>user4</th>\n      <td>0</td>\n      <td>0</td>\n      <td>3</td>\n      <td>0</td>\n      <td>0</td>\n    </tr>\n    <tr>\n      <th>user5</th>\n      <td>0</td>\n      <td>0</td>\n      <td>0</td>\n      <td>0</td>\n      <td>0</td>\n    </tr>\n  </tbody>\n</table>\n</div>"
     },
     "metadata": {},
     "execution_count": 22
    }
   ],
   "source": [
    "X.iloc[:5, :5]"
   ]
  }
 ],
 "metadata": {
  "kernelspec": {
   "display_name": "Python 3.8.2 64-bit ('ml_2020_09': venv)",
   "language": "python",
   "name": "python38264bitml202009venv84a8563b6a914af9b8654409f1b20f73"
  },
  "language_info": {
   "codemirror_mode": {
    "name": "ipython",
    "version": 3
   },
   "file_extension": ".py",
   "mimetype": "text/x-python",
   "name": "python",
   "nbconvert_exporter": "python",
   "pygments_lexer": "ipython3",
   "version": "3.8.2-final"
  }
 },
 "nbformat": 4,
 "nbformat_minor": 4
}