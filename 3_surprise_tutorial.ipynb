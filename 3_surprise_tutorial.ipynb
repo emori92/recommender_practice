{
 "cells": [
  {
   "cell_type": "markdown",
   "metadata": {},
   "source": [
    "# Surprise: [Get Starting!](https://surprise.readthedocs.io/en/stable/getting_started.html#getting-started)"
   ]
  },
  {
   "cell_type": "code",
   "execution_count": 1,
   "metadata": {},
   "outputs": [],
   "source": [
    "import numpy as np\n",
    "import pandas as pd\n",
    "from sklearn.pipeline import Pipeline\n",
    "# surprise\n",
    "from surprise import SVD, NormalPredictor, KNNBasic , Dataset, accuracy, Reader\n",
    "from surprise.model_selection import cross_validate, train_test_split, GridSearchCV"
   ]
  },
  {
   "cell_type": "markdown",
   "metadata": {},
   "source": [
    "サンプルデータを取得"
   ]
  },
  {
   "cell_type": "code",
   "execution_count": 5,
   "metadata": {},
   "outputs": [],
   "source": [
    "# Load movielens-100k \n",
    "data = Dataset.load_builtin('ml-100k')"
   ]
  },
  {
   "cell_type": "markdown",
   "metadata": {},
   "source": [
    "アルゴリズムの定義"
   ]
  },
  {
   "cell_type": "code",
   "execution_count": 3,
   "metadata": {},
   "outputs": [],
   "source": [
    "# SVD algorithm.\n",
    "algo1 = SVD()"
   ]
  },
  {
   "cell_type": "markdown",
   "metadata": {},
   "source": [
    "交差検証"
   ]
  },
  {
   "cell_type": "code",
   "execution_count": 4,
   "metadata": {},
   "outputs": [
    {
     "output_type": "stream",
     "name": "stdout",
     "text": "Evaluating RMSE, MAE of algorithm SVD on 3 split(s).\n\n                  Fold 1  Fold 2  Fold 3  Mean    Std     \nRMSE (testset)    0.9426  0.9478  0.9440  0.9448  0.0022  \nMAE (testset)     0.7452  0.7480  0.7435  0.7455  0.0019  \nFit time          5.57    5.79    5.36    5.58    0.17    \nTest time         0.47    0.39    0.38    0.41    0.04    \nCPU times: user 18.3 s, sys: 153 ms, total: 18.5 s\nWall time: 18.7 s\n"
    }
   ],
   "source": [
    "%%time\n",
    "\n",
    "# cross-validation\n",
    "cross_validate(algo1, data, measures=['RMSE', 'MAE'], cv=3, verbose=True)\n",
    "\n",
    "None"
   ]
  },
  {
   "cell_type": "markdown",
   "metadata": {},
   "source": [
    "※ RMSE(Root Mean Squared Error)は二乗誤差。少ない方が評価できる。"
   ]
  },
  {
   "cell_type": "markdown",
   "metadata": {},
   "source": [
    "訓練データ、本番データに分割"
   ]
  },
  {
   "cell_type": "code",
   "execution_count": 6,
   "metadata": {},
   "outputs": [],
   "source": [
    "trainset, testset = train_test_split(data, test_size=.2)"
   ]
  },
  {
   "cell_type": "markdown",
   "metadata": {},
   "source": [
    "モデルの訓練"
   ]
  },
  {
   "cell_type": "code",
   "execution_count": 7,
   "metadata": {},
   "outputs": [
    {
     "output_type": "stream",
     "name": "stdout",
     "text": "CPU times: user 4.44 s, sys: 16.7 ms, total: 4.46 s\nWall time: 4.47 s\n"
    }
   ],
   "source": [
    "%%time\n",
    "\n",
    "algo1.fit(trainset)\n",
    "\n",
    "None"
   ]
  },
  {
   "cell_type": "markdown",
   "metadata": {},
   "source": [
    "訓練データの正解率"
   ]
  },
  {
   "cell_type": "code",
   "execution_count": 8,
   "metadata": {},
   "outputs": [
    {
     "output_type": "stream",
     "name": "stdout",
     "text": "RMSE: 0.6857\n"
    }
   ],
   "source": [
    "# train data\n",
    "_trainset = trainset.build_testset()\n",
    "accuracy.rmse(algo1.test(_trainset))\n",
    "\n",
    "None"
   ]
  },
  {
   "cell_type": "markdown",
   "metadata": {},
   "source": [
    "本番データでRMSEの正解率をチェック"
   ]
  },
  {
   "cell_type": "code",
   "execution_count": 9,
   "metadata": {},
   "outputs": [
    {
     "output_type": "stream",
     "name": "stdout",
     "text": "RMSE: 0.9334\n"
    }
   ],
   "source": [
    "predictions = algo1.test(testset)\n",
    "accuracy.rmse(predictions)\n",
    "\n",
    "None"
   ]
  },
  {
   "cell_type": "code",
   "execution_count": 12,
   "metadata": {},
   "outputs": [
    {
     "output_type": "execute_result",
     "data": {
      "text/plain": "       uid  iid  r_ui       est\n6538   727  164   5.0  3.362982\n6961   222  450   3.0  2.215884\n9969   488  468   5.0  3.074466\n10470  409  303   4.0  3.381236\n14263  655  874   4.0  2.846750\n5769   271  285   4.0  4.148748\n3267   767  207   5.0  4.151665\n19790  721  995   3.0  3.100397\n8449   625  655   3.0  3.515316\n2963     7  204   5.0  4.407245",
      "text/html": "<div>\n<style scoped>\n    .dataframe tbody tr th:only-of-type {\n        vertical-align: middle;\n    }\n\n    .dataframe tbody tr th {\n        vertical-align: top;\n    }\n\n    .dataframe thead th {\n        text-align: right;\n    }\n</style>\n<table border=\"1\" class=\"dataframe\">\n  <thead>\n    <tr style=\"text-align: right;\">\n      <th></th>\n      <th>uid</th>\n      <th>iid</th>\n      <th>r_ui</th>\n      <th>est</th>\n    </tr>\n  </thead>\n  <tbody>\n    <tr>\n      <th>6538</th>\n      <td>727</td>\n      <td>164</td>\n      <td>5.0</td>\n      <td>3.362982</td>\n    </tr>\n    <tr>\n      <th>6961</th>\n      <td>222</td>\n      <td>450</td>\n      <td>3.0</td>\n      <td>2.215884</td>\n    </tr>\n    <tr>\n      <th>9969</th>\n      <td>488</td>\n      <td>468</td>\n      <td>5.0</td>\n      <td>3.074466</td>\n    </tr>\n    <tr>\n      <th>10470</th>\n      <td>409</td>\n      <td>303</td>\n      <td>4.0</td>\n      <td>3.381236</td>\n    </tr>\n    <tr>\n      <th>14263</th>\n      <td>655</td>\n      <td>874</td>\n      <td>4.0</td>\n      <td>2.846750</td>\n    </tr>\n    <tr>\n      <th>5769</th>\n      <td>271</td>\n      <td>285</td>\n      <td>4.0</td>\n      <td>4.148748</td>\n    </tr>\n    <tr>\n      <th>3267</th>\n      <td>767</td>\n      <td>207</td>\n      <td>5.0</td>\n      <td>4.151665</td>\n    </tr>\n    <tr>\n      <th>19790</th>\n      <td>721</td>\n      <td>995</td>\n      <td>3.0</td>\n      <td>3.100397</td>\n    </tr>\n    <tr>\n      <th>8449</th>\n      <td>625</td>\n      <td>655</td>\n      <td>3.0</td>\n      <td>3.515316</td>\n    </tr>\n    <tr>\n      <th>2963</th>\n      <td>7</td>\n      <td>204</td>\n      <td>5.0</td>\n      <td>4.407245</td>\n    </tr>\n  </tbody>\n</table>\n</div>"
     },
     "metadata": {},
     "execution_count": 12
    }
   ],
   "source": [
    "df = pd.DataFrame(predictions).drop(['details'], axis=1)\n",
    "\n",
    "df.sample(10)"
   ]
  },
  {
   "cell_type": "code",
   "execution_count": null,
   "metadata": {},
   "outputs": [],
   "source": []
  },
  {
   "cell_type": "markdown",
   "metadata": {},
   "source": [
    "本番データではRMSEが高く、精度が悪くなっている"
   ]
  },
  {
   "cell_type": "markdown",
   "metadata": {},
   "source": [
    "Grid Search"
   ]
  },
  {
   "cell_type": "code",
   "execution_count": 2,
   "metadata": {},
   "outputs": [
    {
     "output_type": "error",
     "ename": "NameError",
     "evalue": "name 'data' is not defined",
     "traceback": [
      "\u001b[0;31m---------------------------------------------------------------------------\u001b[0m",
      "\u001b[0;31mNameError\u001b[0m                                 Traceback (most recent call last)",
      "\u001b[0;32m<timed exec>\u001b[0m in \u001b[0;36m<module>\u001b[0;34m\u001b[0m\n",
      "\u001b[0;31mNameError\u001b[0m: name 'data' is not defined"
     ]
    }
   ],
   "source": [
    "%%time\n",
    "\n",
    "# hyper parameter\n",
    "param_grid = {\n",
    "    'n_epochs': [5, 10],\n",
    "    'lr_all': [0.002, 0.005],\n",
    "    'reg_all': [0.4, 0.6],\n",
    "}\n",
    "\n",
    "# grid search\n",
    "gs1 = GridSearchCV(SVD, param_grid, measures=['rmse', 'mae'], cv=3)\n",
    "gs1.fit(data)\n",
    "\n",
    "None"
   ]
  },
  {
   "cell_type": "code",
   "execution_count": 12,
   "metadata": {},
   "outputs": [
    {
     "data": {
      "text/plain": [
       "0.9641699295027255"
      ]
     },
     "execution_count": 12,
     "metadata": {},
     "output_type": "execute_result"
    }
   ],
   "source": [
    "# RMSE score\n",
    "gs1.best_score['rmse']"
   ]
  },
  {
   "cell_type": "code",
   "execution_count": 13,
   "metadata": {},
   "outputs": [
    {
     "data": {
      "text/plain": [
       "{'n_epochs': 10, 'lr_all': 0.005, 'reg_all': 0.4}"
      ]
     },
     "execution_count": 13,
     "metadata": {},
     "output_type": "execute_result"
    }
   ],
   "source": [
    "# best parameter\n",
    "gs1.best_params['rmse']"
   ]
  },
  {
   "cell_type": "code",
   "execution_count": 14,
   "metadata": {},
   "outputs": [
    {
     "name": "stdout",
     "output_type": "stream",
     "text": [
      "CPU times: user 2.27 s, sys: 4.57 ms, total: 2.28 s\n",
      "Wall time: 2.28 s\n"
     ]
    }
   ],
   "source": [
    "%%time\n",
    "\n",
    "# choice best model\n",
    "algo2 = gs1.best_estimator['rmse']\n",
    "\n",
    "# train algorithm\n",
    "algo2.fit(trainset)\n",
    "\n",
    "None"
   ]
  },
  {
   "cell_type": "code",
   "execution_count": 15,
   "metadata": {},
   "outputs": [
    {
     "name": "stdout",
     "output_type": "stream",
     "text": [
      "RMSE: 0.9553\n"
     ]
    }
   ],
   "source": [
    "# predict\n",
    "accuracy.rmse(algo2.test(testset))\n",
    "\n",
    "None"
   ]
  }
 ],
 "metadata": {
  "kernelspec": {
   "display_name": "Python 3.8.2 64-bit ('hoby-py': venv)",
   "language": "python",
   "name": "python38264bithobypyvenv011ee0395285450b8f64c575f0d9b0f4"
  },
  "language_info": {
   "codemirror_mode": {
    "name": "ipython",
    "version": 3
   },
   "file_extension": ".py",
   "mimetype": "text/x-python",
   "name": "python",
   "nbconvert_exporter": "python",
   "pygments_lexer": "ipython3",
   "version": "3.8.2-final"
  }
 },
 "nbformat": 4,
 "nbformat_minor": 4
}